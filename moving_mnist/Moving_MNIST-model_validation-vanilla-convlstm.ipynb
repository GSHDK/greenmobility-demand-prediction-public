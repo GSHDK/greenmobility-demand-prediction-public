{
 "cells": [
  {
   "cell_type": "markdown",
   "metadata": {},
   "source": [
    "# Moving mnist for validation of models - Vanilla convlstm\n",
    "\n",
    "The problem we are trying to solve has note been done before, to ensure our models are working as expected we introduce the moving mnist to validate our models on a dataset that has shown to work well with this type of model.\n",
    "\n",
    "Implementation based on \n",
    "https://towardsdatascience.com/video-prediction-using-convlstm-with-pytorch-lightning-27b195fd21a2"
   ]
  },
  {
   "cell_type": "markdown",
   "metadata": {},
   "source": [
    "# Data loading"
   ]
  },
  {
   "cell_type": "code",
   "execution_count": 2,
   "metadata": {},
   "outputs": [],
   "source": [
    "from __future__ import print_function\n",
    "import torch.utils.data as data\n",
    "from PIL import Image\n",
    "import sys\n",
    "sys.path.append('../')\n",
    "import os\n",
    "import errno\n",
    "import numpy as np\n",
    "import torch\n",
    "import codecs\n",
    "from datetime import datetime\n",
    "import matplotlib.pyplot as plt\n",
    "from torchvision.utils import save_image, make_grid\n",
    "from model.ConvLSTM import ConvLSTMCell\n",
    "from model.models import VanillaConvLSTM\n",
    "import torchvision.utils\n",
    "import torchvision.datasets as dset\n",
    "import torchvision.transforms as transforms\n",
    "from datahelpers import *\n",
    "from IPython.display import clear_output\n",
    "from torchvision.utils import save_image, make_grid\n",
    "import json"
   ]
  },
  {
   "cell_type": "markdown",
   "metadata": {},
   "source": [
    "# Parameters"
   ]
  },
  {
   "cell_type": "code",
   "execution_count": 2,
   "metadata": {},
   "outputs": [],
   "source": [
    "# Size of dim 0 of grid\n",
    "n_steps_past = 10\n",
    "n_steps_ahead = 1  # 4\n",
    "NF=30\n",
    "batch_size=6\n",
    "\n",
    "# For saving\n",
    "MODEL_NAME=\"Vanilla_conv_1_step_model\""
   ]
  },
  {
   "cell_type": "markdown",
   "metadata": {},
   "source": [
    "# Data loader "
   ]
  },
  {
   "cell_type": "code",
   "execution_count": 3,
   "metadata": {},
   "outputs": [],
   "source": [
    "relative_path='data'\n",
    "\n",
    "train_set = MovingMNIST(root=relative_path, train=True, download=False, max_norm=True)\n",
    "\n",
    "train_loader = torch.utils.data.DataLoader(\n",
    "                 dataset=train_set,\n",
    "                 batch_size=batch_size,\n",
    "                 shuffle=True)\n",
    "\n",
    "\n",
    "validation_set = MovingMNIST(root=relative_path, train=False, download=False, max_norm=True)\n",
    "\n",
    "validation_loader = torch.utils.data.DataLoader(\n",
    "                 dataset=validation_set,\n",
    "                 batch_size=batch_size,\n",
    "                 shuffle=True)"
   ]
  },
  {
   "cell_type": "code",
   "execution_count": 3,
   "metadata": {},
   "outputs": [],
   "source": [
    "model = VanillaConvLSTM(nf=NF, in_chan=1)\n",
    "CUDA=False\n",
    "if torch.cuda.is_available():\n",
    "    print(\"Cuda\")\n",
    "    CUDA=True\n",
    "    model.cuda()"
   ]
  },
  {
   "cell_type": "markdown",
   "metadata": {},
   "source": [
    "### Load a pretrained model"
   ]
  },
  {
   "cell_type": "code",
   "execution_count": 4,
   "metadata": {},
   "outputs": [
    {
     "data": {
      "text/plain": [
       "<All keys matched successfully>"
      ]
     },
     "execution_count": 4,
     "metadata": {},
     "output_type": "execute_result"
    }
   ],
   "source": [
    "model.load_state_dict(torch.load('../state_dict/model_tranied_xxx',map_location=torch.device('cpu')))"
   ]
  },
  {
   "cell_type": "markdown",
   "metadata": {},
   "source": [
    "### Get model parameters"
   ]
  },
  {
   "cell_type": "code",
   "execution_count": 4,
   "metadata": {},
   "outputs": [
    {
     "name": "stdout",
     "output_type": "stream",
     "text": [
      "98791\n"
     ]
    }
   ],
   "source": [
    "total_params = sum(p.numel() for p in model.parameters() if p.requires_grad)\n",
    "print(total_params)"
   ]
  },
  {
   "cell_type": "code",
   "execution_count": 5,
   "metadata": {},
   "outputs": [
    {
     "name": "stdout",
     "output_type": "stream",
     "text": [
      "torch.Size([120, 31, 3, 3])\n",
      "torch.Size([120])\n",
      "torch.Size([120, 60, 3, 3])\n",
      "torch.Size([120])\n",
      "torch.Size([1, 30, 1, 3, 3])\n",
      "torch.Size([1])\n"
     ]
    }
   ],
   "source": [
    "# Print model parameters\n",
    "for i in range(len(list(model.parameters()))):\n",
    "    print(list(model.parameters())[i].size())"
   ]
  },
  {
   "cell_type": "markdown",
   "metadata": {},
   "source": [
    "# Loss"
   ]
  },
  {
   "cell_type": "code",
   "execution_count": 6,
   "metadata": {},
   "outputs": [],
   "source": [
    "criterion = nn.MSELoss()"
   ]
  },
  {
   "cell_type": "markdown",
   "metadata": {},
   "source": [
    "# Optimizer"
   ]
  },
  {
   "cell_type": "code",
   "execution_count": 7,
   "metadata": {},
   "outputs": [],
   "source": [
    "learning_rate = 1e-4\n",
    "optimizer = torch.optim.Adam(model.parameters(), lr=learning_rate)  "
   ]
  },
  {
   "cell_type": "markdown",
   "metadata": {},
   "source": [
    "# Traning\n",
    "\n",
    "### Verify model"
   ]
  },
  {
   "cell_type": "code",
   "execution_count": 8,
   "metadata": {},
   "outputs": [],
   "source": [
    "# Reproduceabilitu\n",
    "torch.manual_seed(3124)\n",
    "np.random.seed(224)"
   ]
  },
  {
   "cell_type": "code",
   "execution_count": 9,
   "metadata": {},
   "outputs": [],
   "source": [
    "for i, (inputs, target) in enumerate(train_loader):\n",
    "    break"
   ]
  },
  {
   "cell_type": "code",
   "execution_count": 10,
   "metadata": {},
   "outputs": [],
   "source": [
    "# Add channel and do forward pass\n",
    "# B,T,C,H,W\n",
    "\n",
    "# Asure that we get the correct number of timesteps\n",
    "assert(model(inputs.unsqueeze(2), future_seq=n_steps_ahead, cuda=CUDA).shape[2]==n_steps_ahead)"
   ]
  },
  {
   "cell_type": "markdown",
   "metadata": {},
   "source": [
    "### Helper functions \n",
    "\n",
    "For keeping track of learning and plotting predictions\n",
    "\n",
    "Update code to be more efficient in argument passing"
   ]
  },
  {
   "cell_type": "code",
   "execution_count": 11,
   "metadata": {},
   "outputs": [
    {
     "name": "stdout",
     "output_type": "stream",
     "text": [
      "test\n"
     ]
    }
   ],
   "source": [
    "print(\"test\")"
   ]
  },
  {
   "cell_type": "code",
   "execution_count": 12,
   "metadata": {},
   "outputs": [],
   "source": [
    "def save_prediction(pred:torch.tensor, file_prefix:str = '', file_postfix:str = '', nrow=10):\n",
    "    \"\"\"\n",
    "    Assumes tensor (b, t, c, h, w)\n",
    "    \"\"\"\n",
    "    \n",
    "    path = file_prefix\n",
    "    if not file_prefix:\n",
    "        path='moving_mnist_'\n",
    "    for b in range(pred.shape[0]):\n",
    "        torchvision.utils.save_image(make_grid(pred[b,:,:,:,:], padding=100, nrow=nrow), str(path)+ f'batchnr{b}'+str(file_postfix)+\".png\")\n",
    "        \n",
    "def plot_prediction(pred:torch.tensor,nrow=10):\n",
    "    # Remove batch\n",
    "    # b,t,c,w,h\n",
    "    if len(pred.shape)>4:\n",
    "        pred = [y for x in pred for y in x]\n",
    "    plt.imshow(np.rot90(np.transpose(make_grid(pred,nrow=nrow).numpy())),origin='lower')\n",
    "    plt.title(\"Prediction\")\n",
    "    \n",
    "def plot_output_v_target(target, outputs, nrow=10):\n",
    "    pred_eval = _join_out_ta(target, outputs)\n",
    "    plot_prediction(pred_eval, nrow=nrow)\n",
    "    \n",
    "def save_output_v_target(target:torch.tensor, outputs:torch.tensor, nrow=10, file_prefix:str = '', file_postfix:str = ''):\n",
    "    pred_eval = _join_out_ta(target, outputs)\n",
    "    save_prediction(pred_eval, nrow=nrow, file_prefix=file_prefix, file_postfix=file_postfix)\n",
    "\n",
    "def _join_out_ta(target, outputs):\n",
    "    # Example\n",
    "    # torch.cat((inputs.unsqueeze(2),model(inputs.unsqueeze(2), future_seq=10).permute(0,2,1,3,4)),dim=1)\n",
    "    \n",
    "    # assert same size except timesteps\n",
    "    assert (target[:,0,:,:,:].shape==outputs[:,0,:,:,:].shape) and (len(target.shape)==5)\n",
    "    return torch.cat((target, outputs), dim=1)"
   ]
  },
  {
   "cell_type": "markdown",
   "metadata": {},
   "source": [
    "### Train model our dataset"
   ]
  },
  {
   "cell_type": "code",
   "execution_count": 13,
   "metadata": {},
   "outputs": [],
   "source": [
    "for i, (inputs, targets) in enumerate(validation_loader):\n",
    "        # Add channel\n",
    "        x = inputs.unsqueeze(2)\n",
    "        y = targets\n",
    "        if CUDA:\n",
    "            y = y.cuda()\n",
    "        break"
   ]
  },
  {
   "cell_type": "code",
   "execution_count": 14,
   "metadata": {},
   "outputs": [
    {
     "data": {
      "text/plain": [
       "device(type='cuda', index=0)"
      ]
     },
     "execution_count": 14,
     "metadata": {},
     "output_type": "execute_result"
    }
   ],
   "source": [
    "y.device"
   ]
  },
  {
   "cell_type": "code",
   "execution_count": 15,
   "metadata": {},
   "outputs": [
    {
     "data": {
      "text/plain": [
       "True"
      ]
     },
     "execution_count": 15,
     "metadata": {},
     "output_type": "execute_result"
    }
   ],
   "source": [
    "CUDA"
   ]
  },
  {
   "cell_type": "code",
   "execution_count": 17,
   "metadata": {},
   "outputs": [
    {
     "name": "stdout",
     "output_type": "stream",
     "text": [
      "Done with 95% of train in epoch 29 \n",
      "Seconds since start: 3266 \n",
      "Seconds since last status: 5\n"
     ]
    }
   ],
   "source": [
    "SAVE_CHECKPOINTS=True\n",
    "\n",
    "num_epochs = 30\n",
    "itr = 0\n",
    "# Save loss for plot\n",
    "training_loss=[]\n",
    "validation_loss=[]\n",
    "\n",
    "t_L=train_loader\n",
    "\n",
    "print(\"Start Iter\")\n",
    "\n",
    "# Status parameters\n",
    "data_train_iter=75\n",
    "\n",
    "global_steps =0\n",
    "log_every=150\n",
    "\n",
    "# Monitoring\n",
    "t1=datetime.now()\n",
    "t2=datetime.now()\n",
    "for epoch in range(num_epochs):\n",
    "    # Track loss\n",
    "    epoch_training_loss = 0\n",
    "    epoch_validation_loss = 0\n",
    "    \n",
    "    model.eval()\n",
    "    # For grid in validation set\n",
    "    print(\"Starting validation\")\n",
    "    for i, (inputs, targets) in enumerate(validation_loader):\n",
    "        # Add channel\n",
    "        x = inputs.unsqueeze(2)\n",
    "        y = targets[:,0,:,:]\n",
    "        if CUDA:\n",
    "            y = y.cuda()\n",
    "\n",
    "        # Forward pass to get output/logits\n",
    "        y_hat = model.forward(x, future_seq=n_steps_ahead, cuda=CUDA).squeeze()\n",
    "        \n",
    "        # Calculate Loss: softmax --> cross entropy loss\n",
    "        # outputs shifts channel one place left\n",
    "        loss = criterion(y_hat, y)\n",
    "\n",
    "        # Getting gradients w.r.t. parameters\n",
    "        epoch_validation_loss += loss.cpu().detach().numpy()\n",
    "\n",
    "    model.train()\n",
    "    # For grid in traning set\n",
    "    print(\"Starting Train\")\n",
    "    for i, (inputs,targets) in enumerate(train_loader):\n",
    "        # Status updates\n",
    "        if i%data_train_iter==0: \n",
    "            print(f\"Done with {int(i*100/len(t_L))}% of train in epoch {epoch} \\nSeconds since start: {(datetime.now()-t1).seconds} \\nSeconds since last status: {(datetime.now()-t2).seconds}\")\n",
    "            t2=datetime.now()\n",
    "        # Add channel\n",
    "        x = inputs.unsqueeze(2)\n",
    "        y = targets[:,0,:,:]\n",
    "        if CUDA:\n",
    "            y = y.cuda()\n",
    "\n",
    "        # Forward pass to get output/logits\n",
    "        y_hat = model.forward(x, future_seq=n_steps_ahead,cuda=CUDA).squeeze()\n",
    "        \n",
    "        # Calculate Loss: softmax --> cross entropy loss\n",
    "        # outputs shifts channel one place left\n",
    "        loss = criterion(y_hat, y)\n",
    "        \n",
    "        # Clear gradients w.r.t. parameters\n",
    "        optimizer.zero_grad()\n",
    "        \n",
    "        # Getting gradients w.r.t. parameters\n",
    "        loss.backward()\n",
    "\n",
    "        # Updating parameters\n",
    "        optimizer.step()\n",
    "\n",
    "        # Update loss\n",
    "        epoch_training_loss += loss.cpu().detach().numpy()\n",
    "        \n",
    "        # Status updates\n",
    "        # Print loss every x steps after 1\n",
    "        if (global_steps % log_every == 0) and len(validation_loss)>0:\n",
    "            #Report status\n",
    "            print(f'Epoch: {epoch}, Global steps: {global_steps}, training loss: {training_loss[-1]}, validation loss: {validation_loss[-1]}')\n",
    "            # Plot prediction\n",
    "            plt.figure(figsize=(15,20))\n",
    "            plt.subplot(2, 1, 1)\n",
    "            plot_output_v_target(inputs.cpu().unsqueeze(2), y_hat.cpu().unsqueeze(1).unsqueeze(1).detach(), nrow=11)\n",
    "            plt.subplot(2, 1, 2)\n",
    "            _epoch = np.arange(len(training_loss))\n",
    "            plt.plot(_epoch, training_loss, 'r', label='Training loss',)\n",
    "            plt.plot(_epoch, validation_loss, 'b', label='Validation loss')\n",
    "            plt.title(\"Traning and validation loos\")\n",
    "            plt.legend()\n",
    "            plt.xlabel('Epoch'), plt.ylabel('VAL')\n",
    "            plt.show()\n",
    "            clear_output(wait=True)\n",
    "\n",
    "            # Save pred\n",
    "            try:\n",
    "                save_output_v_target(inputs.cpu().unsqueeze(2), y_hat.cpu().unsqueeze(1).permute(0,2,1,3,4).detach(),nrow=10, file_prefix=f'./predictions/{type(model).__name__}_pred', file_postfix=epoch)\n",
    "            except Exception as e:\n",
    "                pass\n",
    "                \n",
    "        # Step taken\n",
    "        global_steps+=1\n",
    "        \n",
    "    # Save\n",
    "    if SAVE_CHECKPOINTS:\n",
    "        model_name=f'./checkpoint_saves/{type(model).__name__}_{type(criterion).__name__}_checkpoint_{datetime.now()}'\n",
    "        # Send dict to memory\n",
    "        torch.save(model.state_dict(), model_name)\n",
    "    # Save loss for plot\n",
    "    training_loss.append(epoch_training_loss/len(train_loader))\n",
    "    validation_loss.append(epoch_validation_loss/len(validation_loader))"
   ]
  },
  {
   "cell_type": "markdown",
   "metadata": {},
   "source": [
    "### Loss evaluation"
   ]
  },
  {
   "cell_type": "code",
   "execution_count": 18,
   "metadata": {},
   "outputs": [
    {
     "data": {
      "image/png": "[encoded data removed]",
      "text/plain": [
       "<Figure size 432x288 with 1 Axes>"
      ]
     },
     "metadata": {
      "needs_background": "light"
     },
     "output_type": "display_data"
    }
   ],
   "source": [
    "# Plot training and validation loss\n",
    "epoch = np.arange(len(training_loss))\n",
    "plt.figure()\n",
    "plt.plot(epoch, training_loss, 'r', label='Training loss',)\n",
    "plt.plot(epoch, validation_loss, 'b', label='Validation loss')\n",
    "plt.title(\"Traning and validation loos\")\n",
    "plt.legend()\n",
    "plt.xlabel('Epoch'), plt.ylabel('NLL')\n",
    "plt.show()"
   ]
  },
  {
   "cell_type": "markdown",
   "metadata": {},
   "source": [
    "### Saving stats"
   ]
  },
  {
   "cell_type": "code",
   "execution_count": 19,
   "metadata": {},
   "outputs": [],
   "source": [
    "if True:\n",
    "    train_eval={'validation_loss':validation_loss,\n",
    "     'traning_loss':training_loss\n",
    "    }\n",
    "    file_name=f'{type(model).__name__}_{type(criterion).__name__}_train_eval_stats_{datetime.now()}.json'\n",
    "    with open(file_name, 'w') as outfile:\n",
    "        json.dump(train_eval, outfile)\n",
    "    with open(file_name) as json_file:\n",
    "        data = json.load(json_file)"
   ]
  },
  {
   "cell_type": "markdown",
   "metadata": {},
   "source": [
    "## Saving the model"
   ]
  },
  {
   "cell_type": "code",
   "execution_count": null,
   "metadata": {},
   "outputs": [],
   "source": [
    "model_name=f'model_tranied_'+str(type(criterion).__name__)+'_'+MODEL_NAME+'_finish_{datetime.now()}'\n",
    "torch.save(model.state_dict(), model_name)"
   ]
  }
 ],
 "metadata": {
  "environment": {
   "name": "pytorch-gpu.1-6.m59",
   "type": "gcloud",
   "uri": "gcr.io/deeplearning-platform-release/pytorch-gpu.1-6:m59"
  },
  "kernelspec": {
   "display_name": "Python 3",
   "language": "python",
   "name": "python3"
  },
  "language_info": {
   "codemirror_mode": {
    "name": "ipython",
    "version": 3
   },
   "file_extension": ".py",
   "mimetype": "text/x-python",
   "name": "python",
   "nbconvert_exporter": "python",
   "pygments_lexer": "ipython3",
   "version": "3.7.9"
  }
 },
 "nbformat": 4,
 "nbformat_minor": 4
}
