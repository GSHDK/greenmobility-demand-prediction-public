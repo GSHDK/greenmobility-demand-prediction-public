{
 "cells": [
  {
   "cell_type": "markdown",
   "metadata": {},
   "source": [
    "# GM Model Norm\n"
   ]
  },
  {
   "cell_type": "markdown",
   "metadata": {},
   "source": [
    "**Imports**"
   ]
  },
  {
   "cell_type": "code",
   "execution_count": 1,
   "metadata": {},
   "outputs": [],
   "source": [
    "import pandas as pd\n",
    "import numpy as np\n",
    "\n",
    "import torch\n",
    "import torch.nn as nn\n",
    "import torch.nn.functional as F\n",
    "import torch.optim as optim\n",
    "from matplotlib import pyplot as plt\n",
    "import seaborn as sns\n",
    "import os\n",
    "from matplotlib.widgets import Slider\n",
    "import glob\n",
    "import h5py\n",
    "from datahelpers import DemandGridDataset\n",
    "from model.models import VanillaConvLSTMFCNorm\n",
    "from datetime import datetime\n",
    "from datahelpers import standardize_grid\n",
    "import json\n",
    "from IPython.display import clear_output\n",
    "\n",
    "def set_seed(seed: int):\n",
    "    torch.manual_seed(seed)\n",
    "    np.random.seed(seed)\n",
    "set_seed(100)"
   ]
  },
  {
   "cell_type": "markdown",
   "metadata": {},
   "source": [
    "**Dataloader**"
   ]
  },
  {
   "cell_type": "code",
   "execution_count": 2,
   "metadata": {},
   "outputs": [],
   "source": [
    "SEGMENT_MIN=60\n",
    "VERTICAL_LINES=4\n",
    "HORIZONTAL_LINES=4\n",
    "DATA_PATH=\"datasets/\"\n",
    "SUBSET = True\n",
    "DATA_PREFIX=\"greenmobility_demand_prediction\"\n",
    "if SUBSET:\n",
    "    DATA_PREFIX+='_CPH_SUB'\n",
    "SEQ_LEN_SLICES=72\n",
    "TEST=False\n",
    "if TEST:\n",
    "    DATA_PREFIX=\"test_\"+DATA_PREFIX\n",
    "    SEQ_LEN_SLICES=1\n",
    "\n",
    "STANDARDIZE = False\n",
    "STANDARDIZE_BATCHWISE = True\n",
    "assert not (STANDARDIZE_BATCHWISE and STANDARDIZE)\n",
    "RETURN_FEATURES = False\n",
    "\n",
    "\n",
    "# For saving\n",
    "MODEL_NAME=\"VanillaLSTMFCNorm_1_step_model\""
   ]
  },
  {
   "cell_type": "code",
   "execution_count": 3,
   "metadata": {},
   "outputs": [
    {
     "name": "stdout",
     "output_type": "stream",
     "text": [
      "Traning loaded in:  36\n",
      "Test loaded in:  5\n",
      "Validation loaded in:  1\n",
      "Initializing loaders\n",
      "Total time: 44\n"
     ]
    }
   ],
   "source": [
    "# Params\n",
    "batch_size = 1\n",
    "\n",
    "# Load the dataset \n",
    "t1=datetime.now()\n",
    "train_data = DemandGridDataset(DATA_PATH+DATA_PREFIX+\"_train.csv\", \n",
    "                         vertical_lines=VERTICAL_LINES, \n",
    "                         horizontal_lines=HORIZONTAL_LINES,\n",
    "                         SEGMENT_MIN=SEGMENT_MIN,\n",
    "                               SEQ_LEN_SLICES=SEQ_LEN_SLICES,\n",
    "                              train=True,\n",
    "                               return_features=RETURN_FEATURES,\n",
    "                              standardize=STANDARDIZE,\n",
    "                              standardize_batchwise=STANDARDIZE_BATCHWISE)\n",
    "print(\"Traning loaded in: \",(datetime.now()-t1).seconds)\n",
    "\n",
    "# Pass filters to validation and test\n",
    "if STANDARDIZE:\n",
    "    print(\"Enter\")\n",
    "    STANDARDIZE = (train_data.mean_grid, train_data.std_grid)\n",
    "\n",
    "t2=datetime.now()\n",
    "test_data = DemandGridDataset(DATA_PATH+DATA_PREFIX+\"_test.csv\", \n",
    "                         vertical_lines=VERTICAL_LINES, \n",
    "                         horizontal_lines=HORIZONTAL_LINES,\n",
    "                         SEGMENT_MIN=SEGMENT_MIN,\n",
    "                              SEQ_LEN_SLICES=SEQ_LEN_SLICES,\n",
    "                              train=False,\n",
    "                              return_features=RETURN_FEATURES, \n",
    "                              standardize=STANDARDIZE,\n",
    "                             standardize_batchwise=STANDARDIZE_BATCHWISE)\n",
    "print(\"Test loaded in: \",(datetime.now()-t2).seconds)\n",
    "t2=datetime.now()\n",
    "validation_data = DemandGridDataset(DATA_PATH+DATA_PREFIX+\"_validation.csv\", \n",
    "                         vertical_lines=VERTICAL_LINES, \n",
    "                         horizontal_lines=HORIZONTAL_LINES,\n",
    "                         SEGMENT_MIN=SEGMENT_MIN,\n",
    "                                    SEQ_LEN_SLICES=SEQ_LEN_SLICES,\n",
    "                              train=False,\n",
    "                                    return_features=RETURN_FEATURES, \n",
    "                                    standardize=STANDARDIZE,\n",
    "                                   standardize_batchwise=STANDARDIZE_BATCHWISE)\n",
    "print(\"Validation loaded in: \",(datetime.now()-t2).seconds)\n",
    "print(\"Initializing loaders\")\n",
    "train_loader = torch.utils.data.DataLoader(dataset=train_data, \n",
    "                                           batch_size=batch_size, \n",
    "                                           shuffle=False)\n",
    "\n",
    "test_loader = torch.utils.data.DataLoader(dataset=test_data, \n",
    "                                          batch_size=batch_size, \n",
    "                                          shuffle=False)\n",
    "\n",
    "validation_loader = torch.utils.data.DataLoader(dataset=validation_data, \n",
    "                                          batch_size=batch_size, \n",
    "                                          shuffle=False)\n",
    "print(\"Total time:\",(datetime.now()-t1).seconds)"
   ]
  },
  {
   "cell_type": "code",
   "execution_count": 4,
   "metadata": {},
   "outputs": [
    {
     "name": "stdout",
     "output_type": "stream",
     "text": [
      "6418\n",
      "922\n",
      "268\n"
     ]
    }
   ],
   "source": [
    "print(len(train_loader))\n",
    "print(len(test_loader))\n",
    "print(len(validation_loader))"
   ]
  },
  {
   "cell_type": "markdown",
   "metadata": {},
   "source": [
    "## Model parameters"
   ]
  },
  {
   "cell_type": "code",
   "execution_count": 5,
   "metadata": {},
   "outputs": [],
   "source": [
    "# Size of dim 0 of grid\n",
    "input_dim = (HORIZONTAL_LINES)*(VERTICAL_LINES)\n",
    "NF = 30\n",
    "layer_dim = 1\n",
    "output_dim = input_dim\n",
    "in_chan=1\n",
    "\n",
    "# Features added in FC layer - wd, dayofmonth, start, corona, h\n",
    "features_fc = 7+31+24"
   ]
  },
  {
   "cell_type": "markdown",
   "metadata": {},
   "source": [
    "## Model selections "
   ]
  },
  {
   "cell_type": "code",
   "execution_count": 6,
   "metadata": {},
   "outputs": [],
   "source": [
    "def tensor_from_features(features: dict) -> torch.tensor:\n",
    "    temp = torch.cat((features['hour'].view(-1),\n",
    "                      #features['time_since_corona'],\n",
    "                      #features['time_since_launch'],\n",
    "                      features['dayofweek'].view(-1),\n",
    "                      features['day_of_month'].view(-1)))\n",
    "    return temp"
   ]
  },
  {
   "cell_type": "code",
   "execution_count": 7,
   "metadata": {},
   "outputs": [],
   "source": [
    "model = VanillaConvLSTMFCNorm(nf=NF, in_chan=1, grid_shape=(HORIZONTAL_LINES+1,VERTICAL_LINES+1))\n",
    "model.double()\n",
    "CUDA=False\n",
    "if torch.cuda.is_available():\n",
    "    print(\"Cuda\")\n",
    "    CUDA=True\n",
    "    model.cuda()"
   ]
  },
  {
   "cell_type": "code",
   "execution_count": 8,
   "metadata": {},
   "outputs": [
    {
     "data": {
      "text/plain": [
       "odict_keys(['convlstm1.conv.weight', 'convlstm1.conv.bias', 'convlstm2.conv.weight', 'convlstm2.conv.bias', 'output_CNN.weight', 'output_CNN.bias', 'FC_CNN.weight', 'FC_CNN.bias'])"
      ]
     },
     "execution_count": 8,
     "metadata": {},
     "output_type": "execute_result"
    }
   ],
   "source": [
    "# Verify correct layers\n",
    "model.state_dict().keys()"
   ]
  },
  {
   "cell_type": "code",
   "execution_count": 9,
   "metadata": {},
   "outputs": [
    {
     "name": "stdout",
     "output_type": "stream",
     "text": [
      "torch.Size([120, 31, 3, 3])\n",
      "torch.Size([120])\n",
      "torch.Size([120, 60, 3, 3])\n",
      "torch.Size([120])\n",
      "torch.Size([1, 30, 1, 3, 3])\n",
      "torch.Size([1])\n",
      "torch.Size([25, 25])\n",
      "torch.Size([25])\n"
     ]
    }
   ],
   "source": [
    "# Print model parameters\n",
    "for i in range(len(list(model.parameters()))):\n",
    "    print(list(model.parameters())[i].size())"
   ]
  },
  {
   "cell_type": "markdown",
   "metadata": {},
   "source": [
    "## Loading State\n",
    "for resuming traning etc."
   ]
  },
  {
   "cell_type": "code",
   "execution_count": 10,
   "metadata": {},
   "outputs": [],
   "source": [
    "LOAD_STATE = True\n",
    "if LOAD_STATE:\n",
    "    model.load_state_dict(torch.load('state_dict/5-5-Norm_FinalVanillaConvLSTMFCNorm_MSELoss', map_location='cpu'))"
   ]
  },
  {
   "cell_type": "markdown",
   "metadata": {},
   "source": [
    "## Test of model\n",
    "Assure it's working"
   ]
  },
  {
   "cell_type": "code",
   "execution_count": 11,
   "metadata": {},
   "outputs": [],
   "source": [
    "for x in train_loader:\n",
    "    break"
   ]
  },
  {
   "cell_type": "code",
   "execution_count": 12,
   "metadata": {},
   "outputs": [
    {
     "data": {
      "text/plain": [
       "torch.Size([1, 72, 1, 5, 5])"
      ]
     },
     "execution_count": 12,
     "metadata": {},
     "output_type": "execute_result"
    }
   ],
   "source": [
    "x[0].unsqueeze(2).shape"
   ]
  },
  {
   "cell_type": "code",
   "execution_count": 13,
   "metadata": {},
   "outputs": [
    {
     "data": {
      "text/plain": [
       "torch.Size([1, 1, 1, 5, 5])"
      ]
     },
     "execution_count": 13,
     "metadata": {},
     "output_type": "execute_result"
    }
   ],
   "source": [
    "# Send a data through model to test it\n",
    "model(x[0].unsqueeze(2)).shape"
   ]
  },
  {
   "cell_type": "markdown",
   "metadata": {},
   "source": [
    "## Loss"
   ]
  },
  {
   "cell_type": "code",
   "execution_count": 14,
   "metadata": {},
   "outputs": [],
   "source": [
    "criterion = nn.MSELoss()"
   ]
  },
  {
   "cell_type": "markdown",
   "metadata": {},
   "source": [
    "## Optimizer"
   ]
  },
  {
   "cell_type": "code",
   "execution_count": 15,
   "metadata": {},
   "outputs": [],
   "source": [
    "learning_rate = 0.8e-3\n",
    "optimizer = torch.optim.Adam(model.parameters(), lr=learning_rate)  "
   ]
  },
  {
   "cell_type": "markdown",
   "metadata": {},
   "source": [
    "## Helperfunction for evaluation"
   ]
  },
  {
   "cell_type": "code",
   "execution_count": 16,
   "metadata": {},
   "outputs": [],
   "source": [
    "def plot_tensor(tensor:torch.tensor):\n",
    "    if len(tensor.shape)>2:\n",
    "        # Select first element\n",
    "        tensor=tensor[tuple([0]*(len(tensor.shape)-2))]\n",
    "    plt.imshow(tensor.numpy().T,origin='lower', vmin=0, vmax=4)\n",
    "    plt.colorbar()"
   ]
  },
  {
   "cell_type": "markdown",
   "metadata": {},
   "source": [
    "## Traning\n",
    "\n",
    "Below is the traning of the model"
   ]
  },
  {
   "cell_type": "code",
   "execution_count": null,
   "metadata": {},
   "outputs": [],
   "source": [
    "set_seed(100)\n",
    "SAVE_CHECKPOINTS = True\n",
    "\n",
    "num_epochs = 20\n",
    "itr = 0\n",
    "# Save loss for plot\n",
    "training_loss=[]\n",
    "validation_loss=[]\n",
    "\n",
    "t_L=train_loader\n",
    "\n",
    "print(\"Start Iter\")\n",
    "\n",
    "# Status parameters\n",
    "# Print every x iter\n",
    "data_train_iter=400\n",
    "\n",
    "global_steps=0\n",
    "log_every=250\n",
    "\n",
    "# Monitoring\n",
    "t1=datetime.now()\n",
    "t2=datetime.now()\n",
    "for epoch in range(num_epochs):\n",
    "    # Track loss\n",
    "    epoch_training_loss = 0\n",
    "    epoch_validation_loss = 0\n",
    "    \n",
    "    model.eval()\n",
    "    # For grid in validation set\n",
    "    for i, (inputs, targets) in enumerate(validation_loader):\n",
    "        # Add channel\n",
    "        x = inputs.unsqueeze(2)\n",
    "        y = targets.reshape(1,1,1,HORIZONTAL_LINES+1,VERTICAL_LINES+1)\n",
    "        if CUDA:\n",
    "            y = y.cuda()\n",
    "            x = x.cuda()\n",
    "\n",
    "        # Forward pass to get output/logits\n",
    "        y_hat = model.forward(x, future_seq=1)\n",
    "        \n",
    "        # Calculate Loss: softmax --> cross entropy loss\n",
    "        # outputs shifts channel one place left\n",
    "        loss = criterion(y,y_hat)\n",
    "\n",
    "        # Getting gradients w.r.t. parameters\n",
    "        epoch_validation_loss += loss.cpu().detach().numpy()\n",
    "        \n",
    "    model.train()\n",
    "    # For grid in traning set\n",
    "    for i, (inputs, targets) in enumerate(train_loader):\n",
    "        # Status updates\n",
    "        if i%data_train_iter==0 and i>0: \n",
    "            print(f\"Done with {int(i*100/len(t_L))}% of train in epoch {epoch} \\nSeconds since start: {(datetime.now()-t1).seconds} \\nSeconds since last status: {(datetime.now()-t2).seconds}\")\n",
    "            t2=datetime.now()\n",
    "        # Add channel\n",
    "        x = inputs.unsqueeze(2)\n",
    "        y = targets.view(1,1,1,HORIZONTAL_LINES+1,VERTICAL_LINES+1)\n",
    "        if CUDA:\n",
    "            y = y.cuda()\n",
    "            x = x.cuda()\n",
    "\n",
    "        # Forward pass to get output/logits\n",
    "        y_hat = model.forward(x, future_seq=1)\n",
    "        \n",
    "        # Calculate Loss: softmax --> cross entropy loss\n",
    "        # outputs shifts channel one place left\n",
    "        loss = criterion(y,y_hat)\n",
    "        \n",
    "        # Clear gradients w.r.t. parameters\n",
    "        optimizer.zero_grad()\n",
    "        \n",
    "        # Getting gradients w.r.t. parameters\n",
    "        loss.backward()\n",
    "\n",
    "        # Updating parameters\n",
    "        optimizer.step()\n",
    "\n",
    "        # Update loss\n",
    "        epoch_training_loss += loss.cpu().detach().numpy()\n",
    "        \n",
    "        # Status updates\n",
    "        # Print loss every x steps after 1\n",
    "        if (global_steps % log_every == 0) and len(validation_loss)>0:\n",
    "            #Report status\n",
    "            print(f'Epoch: {epoch}, Global steps: {global_steps}, training loss: {training_loss[-1]}, validation loss: {validation_loss[-1]}')\n",
    "            print(loss)\n",
    "            # Plot prediction\n",
    "            plt.figure(figsize=(20,15))\n",
    "            plt.subplot(2, 2, 1)\n",
    "            plot_tensor(targets)\n",
    "            plt.title(\"Target\")\n",
    "            plt.subplot(2, 2, 3)\n",
    "            plt.title(\"Prediction\")\n",
    "            plot_tensor(y_hat.detach())\n",
    "            plt.subplot(1, 2, 2)\n",
    "            _epoch = np.arange(len(training_loss))\n",
    "            plt.plot(_epoch, training_loss, 'r', label='Training loss',)\n",
    "            plt.plot(_epoch, validation_loss, 'b', label='Validation loss')\n",
    "            plt.title(\"Traning and validation loos\")\n",
    "            plt.ylim((0))\n",
    "            plt.legend()\n",
    "            plt.xlabel('Epoch'), plt.ylabel('VAL')\n",
    "            plt.show()\n",
    "            clear_output(wait=True)\n",
    "                \n",
    "        # Step taken\n",
    "        global_steps+=1\n",
    "\n",
    "    # Save\n",
    "    if SAVE_CHECKPOINTS:\n",
    "        model_name=f'./checkpoint_saves/5-5-Norm{type(model).__name__}_{type(criterion).__name__}_checkpoint_{datetime.now()}'\n",
    "        # Send dict to memory\n",
    "        torch.save(model.state_dict(), model_name)\n",
    "        \n",
    "    # Early breaking if validationloss increases 3 times\n",
    "    if len(validation_loss)>3:\n",
    "        if (validation_loss[-1]>=validation_loss[-2]) and (validation_loss[-1]>=validation_loss[-3]) and (validation_loss[-1]>=validation_loss[-4]):\n",
    "            break\n",
    "    # Save loss for plot\n",
    "    training_loss.append(epoch_training_loss/len(train_loader))\n",
    "    validation_loss.append(epoch_validation_loss/len(validation_loader))"
   ]
  },
  {
   "cell_type": "markdown",
   "metadata": {},
   "source": [
    "## Save model"
   ]
  },
  {
   "cell_type": "code",
   "execution_count": 68,
   "metadata": {},
   "outputs": [],
   "source": [
    "if False:\n",
    "    model_name=f'./state_dict/5-5-Norm_Final{type(model).__name__}_{type(criterion).__name__}'\n",
    "    # Send dict to memory\n",
    "    torch.save(model.state_dict(), model_name)"
   ]
  },
  {
   "cell_type": "code",
   "execution_count": null,
   "metadata": {},
   "outputs": [],
   "source": [
    "training_loss"
   ]
  },
  {
   "cell_type": "code",
   "execution_count": 22,
   "metadata": {},
   "outputs": [
    {
     "data": {
      "text/plain": [
       "[1.272292640652749,\n",
       " 1.1761042235185524,\n",
       " 1.1755625186917544,\n",
       " 1.175291265109579,\n",
       " 1.0116927520865004,\n",
       " 0.9468280502704508,\n",
       " 0.9379783446403447,\n",
       " 0.9427168668535917,\n",
       " 0.9385746901802104,\n",
       " 0.9334214055354658,\n",
       " 0.9376726365509312,\n",
       " 0.9357493255674607,\n",
       " 1.0002624986188529]"
      ]
     },
     "execution_count": 22,
     "metadata": {},
     "output_type": "execute_result"
    }
   ],
   "source": [
    "validation_loss"
   ]
  },
  {
   "cell_type": "markdown",
   "metadata": {},
   "source": [
    "## Saving stats"
   ]
  },
  {
   "cell_type": "code",
   "execution_count": null,
   "metadata": {},
   "outputs": [],
   "source": [
    "train_eval={'validation_loss':validation_loss,\n",
    " 'traning_loss':training_loss\n",
    "}\n",
    "file_name=f'{type(model).__name__}_{type(criterion).__name__}_train_eval_stats_{datetime.now()}.json'\n",
    "with open(file_name, 'w') as outfile:\n",
    "    json.dump(train_eval, outfile)\n",
    "with open(file_name) as json_file:\n",
    "    data = json.load(json_file)"
   ]
  },
  {
   "cell_type": "markdown",
   "metadata": {},
   "source": [
    "## Visualizing learning"
   ]
  },
  {
   "cell_type": "code",
   "execution_count": 36,
   "metadata": {},
   "outputs": [
    {
     "data": {
      "image/png": "[encoded data removed]",
      "text/plain": [
       "<Figure size 432x288 with 1 Axes>"
      ]
     },
     "metadata": {
      "needs_background": "light"
     },
     "output_type": "display_data"
    }
   ],
   "source": [
    "# Plot training and validation loss\n",
    "epoch = np.arange(len(training_loss))\n",
    "plt.figure()\n",
    "plt.plot(epoch, training_loss, 'r', label='Training loss',)\n",
    "plt.plot(epoch, validation_loss, 'b', label='Validation loss')\n",
    "plt.title(\"Traning and validation loos\")\n",
    "plt.legend()\n",
    "plt.xlabel('Epoch'), plt.ylabel('NLL')\n",
    "plt.show()"
   ]
  },
  {
   "cell_type": "markdown",
   "metadata": {},
   "source": [
    "## Single cell value prediction"
   ]
  },
  {
   "cell_type": "code",
   "execution_count": 17,
   "metadata": {
    "scrolled": true
   },
   "outputs": [],
   "source": [
    "ta_val=[]\n",
    "out_val=[]\n",
    "for i, (inputs, targets) in enumerate(test_loader):\n",
    "    # Add channel\n",
    "    x = inputs.unsqueeze(2)\n",
    "    y = targets.reshape(1,1,1,HORIZONTAL_LINES+1,VERTICAL_LINES+1)\n",
    "    if CUDA:\n",
    "        y = y.cuda()\n",
    "        x = x.cuda()\n",
    "\n",
    "    # Forward pass to get output/logits\n",
    "    y_hat = model.forward(x, future_seq=1)\n",
    "    \n",
    "    # Inverse standardization\n",
    "    # Normal standardize\n",
    "    '''\n",
    "        ta_non_std.append(targets.detach().squeeze().numpy()[CELL])\n",
    "        y_hat = standardize_grid(y_hat.detach().numpy().squeeze(),STANDARDIZE[0],STANDARDIZE[1], inverse=True)\n",
    "        ta_v = standardize_grid(targets.detach().squeeze().numpy(),STANDARDIZE[0],STANDARDIZE[1], inverse=True)[CELL]\n",
    "    '''\n",
    "    # Batchwise\n",
    "    _, __ , m, s = test_data.batchwise_std_inverse(i,return_params=True)\n",
    "    y_hat = standardize_grid(y_hat.detach().numpy().squeeze(),m,s, inverse=True)\n",
    "    ta_v = test_data.batchwise_std_inverse(i)[1].detach().squeeze().numpy()\n",
    "    \n",
    "    ta_val.append(ta_v)\n",
    "    \n",
    "    ou_v=y_hat\n",
    "    out_val.append(ou_v)"
   ]
  },
  {
   "cell_type": "code",
   "execution_count": null,
   "metadata": {},
   "outputs": [],
   "source": []
  },
  {
   "cell_type": "code",
   "execution_count": 19,
   "metadata": {},
   "outputs": [
    {
     "data": {
      "image/png": "[encoded data removed]",
      "text/plain": [
       "<Figure size 864x576 with 1 Axes>"
      ]
     },
     "metadata": {
      "needs_background": "light"
     },
     "output_type": "display_data"
    }
   ],
   "source": [
    "plt.figure(figsize=(12,8))\n",
    "CELL =(4,2)\n",
    "\n",
    "# Parameters\n",
    "offset=0\n",
    "data_points=100\n",
    "\n",
    "# Don't touch\n",
    "lim=offset+data_points\n",
    "assert lim<len(out_val)\n",
    "t=[i for i in range(len(out_val[offset:lim]))]\n",
    "plt.plot(t, [x[CELL] for x in out_val][offset:lim], color='grey', marker='o', linestyle='dashed', linewidth=2, markersize=3, label='prediction')\n",
    "plt.plot(t, [x[CELL] for x in ta_val][offset:lim], color='green', marker='o', linestyle='solid', linewidth=2, markersize=3, label='target')\n",
    "plt.legend()\n",
    "plt.title(\"Predictions vs targets\")\n",
    "plt.show()"
   ]
  },
  {
   "cell_type": "markdown",
   "metadata": {},
   "source": [
    "## Calculate accuracy\n"
   ]
  },
  {
   "cell_type": "code",
   "execution_count": 21,
   "metadata": {},
   "outputs": [],
   "source": [
    "import time\n",
    "abs_= []\n",
    "rel_ = [] \n",
    "def calculate_absolute(inp, lab):\n",
    "    return np.sum(np.abs(lab-inp))\n",
    "def calculate_relative(inp, lab, mean_grid):\n",
    "    return np.sum(np.abs(lab-inp)/(1+mean_grid))"
   ]
  },
  {
   "cell_type": "code",
   "execution_count": 22,
   "metadata": {},
   "outputs": [
    {
     "name": "stdout",
     "output_type": "stream",
     "text": [
      "21.64110803586192 13.547214509789109\n"
     ]
    }
   ],
   "source": [
    "abs_v = np.mean(np.abs(list(map(calculate_absolute,out_val,ta_val))))\n",
    "rel_v = np.mean(np.abs(list(map(calculate_relative,out_val,ta_val,train_data.mean_grid))))\n",
    "print(abs_v,rel_v)"
   ]
  },
  {
   "cell_type": "code",
   "execution_count": 23,
   "metadata": {},
   "outputs": [
    {
     "name": "stdout",
     "output_type": "stream",
     "text": [
      "99441\n"
     ]
    }
   ],
   "source": [
    "total_params = sum(p.numel() for p in model.parameters() if p.requires_grad)\n",
    "print(total_params)"
   ]
  },
  {
   "cell_type": "code",
   "execution_count": 18,
   "metadata": {},
   "outputs": [],
   "source": [
    "# Save performance\n",
    "with open('CLSTM_BN.npy', 'wb') as f:\n",
    "    np.save(f, out_val)"
   ]
  }
 ],
 "metadata": {
  "kernelspec": {
   "display_name": "Python 3",
   "language": "python",
   "name": "python3"
  },
  "language_info": {
   "codemirror_mode": {
    "name": "ipython",
    "version": 3
   },
   "file_extension": ".py",
   "mimetype": "text/x-python",
   "name": "python",
   "nbconvert_exporter": "python",
   "pygments_lexer": "ipython3",
   "version": "3.7.9"
  }
 },
 "nbformat": 4,
 "nbformat_minor": 4
}
